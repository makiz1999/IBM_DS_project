{
 "cells": [
  {
   "attachments": {},
   "cell_type": "markdown",
   "metadata": {},
   "source": [
    "# The Battle of Neighborhoods\n",
    "\n",
    "##### Applied Data Science Capstone by IBM/Coursera\n",
    "\n",
    "###### Table of Contents\n",
    "<ul>\n",
    "    <li>Introduction/Business Problem</li>\n",
    "    <li>Data Section</li>\n",
    "</ul>\n",
    "\n",
    "### Introduction/Business Problem\n",
    "The main goal of the project is to find the best location for opening new restaurant in Latvia. The best location will be chosen by places nearby and by their ratings. It is very important to know if the chosen place will be profitable or not. My assumption for this project would be that if nearby places will have high rating then there is more chance for the restaurant to succeed. Choosing the correct place is crucial because not any owner wants their business to fail. As a real life example: the tourist comes to the city and decides to see some recommended places, eventually he will become hungry and he will look for places nearby. In this case it would be cruicial to make a new restaurant in populated and well known places. For this reason we will explore the city and find places like that\n",
    "\n",
    "### Data Section\n",
    "With the help of the Foursquare API we will be able to explore the places in Latvia. Such parameters as: rating, likes, reviews, revenue and other places nearby will be necessary in this project. But let's organize the list of the data requirements that we will need\n",
    "\n",
    "<ul>\n",
    "    <li>Places with ratings in Latvia</li>\n",
    "    <li>Rating of the place</li>\n",
    "    <li>How many people visit the place</li>\n",
    "    <li>Reviews of the place</li>\n",
    "    <li>Revenue</li>\n",
    "</ul>\n"
   ]
  },
  {
   "cell_type": "code",
   "execution_count": null,
   "metadata": {},
   "outputs": [],
   "source": []
  }
 ],
 "metadata": {
  "kernelspec": {
   "display_name": "Python 3",
   "language": "python",
   "name": "python3"
  },
  "language_info": {
   "codemirror_mode": {
    "name": "ipython",
    "version": 3
   },
   "file_extension": ".py",
   "mimetype": "text/x-python",
   "name": "python",
   "nbconvert_exporter": "python",
   "pygments_lexer": "ipython3",
   "version": "3.8.3"
  }
 },
 "nbformat": 4,
 "nbformat_minor": 4
}
